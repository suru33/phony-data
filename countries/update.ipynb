{
 "cells": [
  {
   "cell_type": "code",
   "execution_count": 1,
   "metadata": {},
   "outputs": [],
   "source": [
    "import sqlite3\n",
    "import json\n",
    "import os"
   ]
  },
  {
   "cell_type": "code",
   "execution_count": 2,
   "metadata": {},
   "outputs": [],
   "source": [
    "with open('countries.json') as f:\n",
    "    data = json.load(f)"
   ]
  },
  {
   "cell_type": "code",
   "execution_count": 3,
   "metadata": {},
   "outputs": [],
   "source": [
    "db_file = os.environ['PHONY_DATA_FILE']\n",
    "conn = sqlite3.connect(db_file)"
   ]
  },
  {
   "cell_type": "code",
   "execution_count": 4,
   "metadata": {},
   "outputs": [],
   "source": [
    "for k, v in data.items():\n",
    "    tl = f\"'{v['tld']}'\" if v['tld'] else 'null'\n",
    "    pc = f\"'{v['phone_code']}'\" if v['phone_code'] else 'null'\n",
    "    cc = f\"'{v['currency']}'\" if v['currency'] else 'null'\n",
    "    sql = f\"\"\"\n",
    "    insert into countries (iso_2, iso_3, iso_n, name, tld, phone_code, currency) VALUES\n",
    "    ('{v['iso']}', '{v['iso3']}', {v['iso-n']}, '{v['name']}', {tl}, {pc}, {cc}\n",
    "    )\n",
    "    \"\"\"\n",
    "    conn.execute(sql)\n",
    "\n",
    "conn.commit()\n",
    "conn.close()"
   ]
  }
 ],
 "metadata": {
  "kernelspec": {
   "display_name": "Python 3",
   "language": "python",
   "name": "python3"
  },
  "language_info": {
   "codemirror_mode": {
    "name": "ipython",
    "version": 3
   },
   "file_extension": ".py",
   "mimetype": "text/x-python",
   "name": "python",
   "nbconvert_exporter": "python",
   "pygments_lexer": "ipython3",
   "version": "3.9.1"
  }
 },
 "nbformat": 4,
 "nbformat_minor": 4
}
